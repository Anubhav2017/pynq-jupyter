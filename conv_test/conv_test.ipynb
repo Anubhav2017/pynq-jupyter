{
 "cells": [
  {
   "cell_type": "code",
   "execution_count": 1,
   "metadata": {},
   "outputs": [
    {
     "data": {
      "application/javascript": [
       "\n",
       "try {\n",
       "require(['notebook/js/codecell'], function(codecell) {\n",
       "  codecell.CodeCell.options_default.highlight_modes[\n",
       "      'magic_text/x-csrc'] = {'reg':[/^%%microblaze/]};\n",
       "  Jupyter.notebook.events.one('kernel_ready.Kernel', function(){\n",
       "      Jupyter.notebook.get_cells().map(function(cell){\n",
       "          if (cell.cell_type == 'code'){ cell.auto_highlight(); } }) ;\n",
       "  });\n",
       "});\n",
       "} catch (e) {};\n"
      ]
     },
     "metadata": {},
     "output_type": "display_data"
    },
    {
     "data": {
      "application/javascript": [
       "\n",
       "try {\n",
       "require(['notebook/js/codecell'], function(codecell) {\n",
       "  codecell.CodeCell.options_default.highlight_modes[\n",
       "      'magic_text/x-csrc'] = {'reg':[/^%%pybind11/]};\n",
       "  Jupyter.notebook.events.one('kernel_ready.Kernel', function(){\n",
       "      Jupyter.notebook.get_cells().map(function(cell){\n",
       "          if (cell.cell_type == 'code'){ cell.auto_highlight(); } }) ;\n",
       "  });\n",
       "});\n",
       "} catch (e) {};\n"
      ]
     },
     "metadata": {},
     "output_type": "display_data"
    }
   ],
   "source": [
    "from pynq import Overlay, GPIO, Register, allocate, MMIO\n",
    "import os\n",
    "import numpy as np\n",
    "from convert import *\n",
    "import struct\n",
    "converter=Converter()"
   ]
  },
  {
   "cell_type": "code",
   "execution_count": 2,
   "metadata": {},
   "outputs": [],
   "source": [
    "overlay = Overlay(\"conv_test.bit\")\n",
    "convip=overlay.conv_combined_0\n",
    "inputip=overlay.InputLayer_0\n",
    "outputip=overlay.OutputLayer_0"
   ]
  },
  {
   "cell_type": "code",
   "execution_count": 3,
   "metadata": {},
   "outputs": [
    {
     "data": {
      "text/plain": [
       "RegisterMap {\n",
       "  CTRL = Register(AP_START=0, AP_DONE=0, AP_IDLE=1, AP_READY=0, RESERVED_1=0, AUTO_RESTART=0, RESERVED_2=0),\n",
       "  GIER = Register(Enable=0, RESERVED=0),\n",
       "  IP_IER = Register(CHAN0_INT_EN=0, CHAN1_INT_EN=0, RESERVED=0),\n",
       "  IP_ISR = Register(CHAN0_INT_ST=0, CHAN1_INT_ST=0, RESERVED=0),\n",
       "  wt = Register(wt=0),\n",
       "  dwt = Register(dwt=0),\n",
       "  b = Register(b=0),\n",
       "  db = Register(db=0),\n",
       "  F = Register(F=0),\n",
       "  C = Register(C=0),\n",
       "  H = Register(H=0),\n",
       "  W = Register(W=0),\n",
       "  FH = Register(FH=0),\n",
       "  FW = Register(FW=0),\n",
       "  fwprop = Register(fwprop=0, RESERVED=0)\n",
       "}"
      ]
     },
     "execution_count": 3,
     "metadata": {},
     "output_type": "execute_result"
    }
   ],
   "source": [
    "convip.register_map"
   ]
  },
  {
   "cell_type": "code",
   "execution_count": 4,
   "metadata": {},
   "outputs": [],
   "source": [
    "xbuff=allocate(shape=(4,),dtype='uint16')\n",
    "wbuff=allocate(shape=(2,),dtype='uint16')\n",
    "bbuff=allocate(shape=(3,),dtype='uint16')\n",
    "ybuff=allocate(shape=(3,),dtype='uint16')"
   ]
  },
  {
   "cell_type": "code",
   "execution_count": 5,
   "metadata": {},
   "outputs": [],
   "source": [
    "x=[int(converter.encode(0.1)),int(converter.encode(0.1)),int(converter.encode(0.1)),int(converter.encode(0.1))]\n",
    "xbuff[:]=x[:]\n",
    "xbuff.flush()"
   ]
  },
  {
   "cell_type": "code",
   "execution_count": 6,
   "metadata": {},
   "outputs": [],
   "source": [
    "inputip.register_map.x=xbuff.physical_address\n",
    "inputip.register_map.dim=4\n",
    "inputip.register_map.ddrtobram=1"
   ]
  },
  {
   "cell_type": "code",
   "execution_count": 7,
   "metadata": {},
   "outputs": [],
   "source": [
    "inputip.write(0x00,1)"
   ]
  },
  {
   "cell_type": "code",
   "execution_count": 12,
   "metadata": {},
   "outputs": [],
   "source": [
    "w=[int(converter.encode(1.0)),int(converter.encode(1.0))]\n",
    "b=[int(converter.encode(0)),int(converter.encode(0)),int(converter.encode(0))]\n"
   ]
  },
  {
   "cell_type": "code",
   "execution_count": 13,
   "metadata": {},
   "outputs": [],
   "source": [
    "wbuff[:]=w[:]\n",
    "bbuff[:]=b[:]\n",
    "\n",
    "wbuff.flush()\n",
    "bbuff.flush()"
   ]
  },
  {
   "cell_type": "code",
   "execution_count": 14,
   "metadata": {},
   "outputs": [],
   "source": [
    "convip.register_map.wt=wbuff.physical_address\n",
    "convip.register_map.b=bbuff.physical_address\n",
    "convip.register_map.F=1\n",
    "convip.register_map.C=1\n",
    "convip.register_map.H=4\n",
    "convip.register_map.W=1\n",
    "convip.register_map.FH=2\n",
    "convip.register_map.FW=1\n",
    "\n",
    "convip.register_map.fwprop=1"
   ]
  },
  {
   "cell_type": "code",
   "execution_count": 15,
   "metadata": {},
   "outputs": [
    {
     "data": {
      "text/plain": [
       "RegisterMap {\n",
       "  CTRL = Register(AP_START=0, AP_DONE=0, AP_IDLE=1, AP_READY=0, RESERVED_1=0, AUTO_RESTART=0, RESERVED_2=0),\n",
       "  GIER = Register(Enable=0, RESERVED=0),\n",
       "  IP_IER = Register(CHAN0_INT_EN=0, CHAN1_INT_EN=0, RESERVED=0),\n",
       "  IP_ISR = Register(CHAN0_INT_ST=0, CHAN1_INT_ST=0, RESERVED=0),\n",
       "  wt = Register(wt=377790464),\n",
       "  dwt = Register(dwt=0),\n",
       "  b = Register(b=377794560),\n",
       "  db = Register(db=0),\n",
       "  F = Register(F=1),\n",
       "  C = Register(C=1),\n",
       "  H = Register(H=4),\n",
       "  W = Register(W=1),\n",
       "  FH = Register(FH=2),\n",
       "  FW = Register(FW=1),\n",
       "  fwprop = Register(fwprop=1, RESERVED=0)\n",
       "}"
      ]
     },
     "execution_count": 15,
     "metadata": {},
     "output_type": "execute_result"
    }
   ],
   "source": [
    "convip.register_map"
   ]
  },
  {
   "cell_type": "code",
   "execution_count": 16,
   "metadata": {},
   "outputs": [],
   "source": [
    "convip.write(0x00,1)"
   ]
  },
  {
   "cell_type": "code",
   "execution_count": 17,
   "metadata": {},
   "outputs": [],
   "source": [
    "outputip.register_map.y=ybuff.physical_address\n",
    "outputip.register_map.dim=3\n",
    "outputip.register_map.ddrtobram=0"
   ]
  },
  {
   "cell_type": "code",
   "execution_count": 18,
   "metadata": {},
   "outputs": [],
   "source": [
    "outputip.write(0x00,1)"
   ]
  },
  {
   "cell_type": "code",
   "execution_count": 19,
   "metadata": {},
   "outputs": [
    {
     "data": {
      "text/plain": [
       "RegisterMap {\n",
       "  CTRL = Register(AP_START=0, AP_DONE=0, AP_IDLE=1, AP_READY=0, RESERVED_1=0, AUTO_RESTART=0, RESERVED_2=0),\n",
       "  GIER = Register(Enable=0, RESERVED=0),\n",
       "  IP_IER = Register(CHAN0_INT_EN=0, CHAN1_INT_EN=0, RESERVED=0),\n",
       "  IP_ISR = Register(CHAN0_INT_ST=0, CHAN1_INT_ST=0, RESERVED=0),\n",
       "  y = Register(y=377798656),\n",
       "  dy = Register(dy=0),\n",
       "  dim = Register(dim=3),\n",
       "  ddrtobram = Register(ddrtobram=0, RESERVED=0)\n",
       "}"
      ]
     },
     "execution_count": 19,
     "metadata": {},
     "output_type": "execute_result"
    }
   ],
   "source": [
    "outputip.register_map"
   ]
  },
  {
   "cell_type": "code",
   "execution_count": 21,
   "metadata": {},
   "outputs": [
    {
     "name": "stdout",
     "output_type": "stream",
     "text": [
      "[ 0 12 24]\n",
      "[0.]\n",
      "[0.09375]\n",
      "[0.1875]\n"
     ]
    }
   ],
   "source": [
    "ybuff.invalidate()\n",
    "print(ybuff)\n",
    "\n",
    "for i in range(3):\n",
    "    print(converter.decode(int(ybuff[i])))"
   ]
  },
  {
   "cell_type": "code",
   "execution_count": 52,
   "metadata": {},
   "outputs": [],
   "source": [
    "x=[1,2,3,4]\n",
    "x1=allocate(shape=(4,),dtype='uint16')\n",
    "x2=allocate(shape=(4,),dtype='uint16')\n",
    "\n",
    "for i in range(4):\n",
    "    x1[i]= x[i]"
   ]
  },
  {
   "cell_type": "code",
   "execution_count": 53,
   "metadata": {},
   "outputs": [],
   "source": [
    "inputip.register_map.x=x1.physical_address\n",
    "inputip.register_map.dim=4\n",
    "inputip.register_map.ddrtobram=1\n",
    "\n",
    "inputip.write(0x00,1)"
   ]
  },
  {
   "cell_type": "code",
   "execution_count": 57,
   "metadata": {},
   "outputs": [],
   "source": [
    "inputip.register_map.x=x2.physical_address\n",
    "inputip.register_map.dim=4\n",
    "inputip.register_map.ddrtobram=0\n",
    "\n",
    "inputip.write(0x00,1)"
   ]
  },
  {
   "cell_type": "code",
   "execution_count": 58,
   "metadata": {},
   "outputs": [
    {
     "name": "stdout",
     "output_type": "stream",
     "text": [
      "[4 1 2 3]\n"
     ]
    }
   ],
   "source": [
    "print(x2)"
   ]
  },
  {
   "cell_type": "code",
   "execution_count": 54,
   "metadata": {},
   "outputs": [
    {
     "name": "stdout",
     "output_type": "stream",
     "text": [
      "[1 2 3 4]\n"
     ]
    }
   ],
   "source": [
    "print(x1)"
   ]
  },
  {
   "cell_type": "code",
   "execution_count": 38,
   "metadata": {},
   "outputs": [
    {
     "data": {
      "text/plain": [
       "RegisterMap {\n",
       "  CTRL = Register(AP_START=0, AP_DONE=0, AP_IDLE=1, AP_READY=0, RESERVED_1=0, AUTO_RESTART=0, RESERVED_2=0),\n",
       "  GIER = Register(Enable=0, RESERVED=0),\n",
       "  IP_IER = Register(CHAN0_INT_EN=0, CHAN1_INT_EN=0, RESERVED=0),\n",
       "  IP_ISR = Register(CHAN0_INT_ST=0, CHAN1_INT_ST=0, RESERVED=0),\n",
       "  y = Register(y=377806848),\n",
       "  dy = Register(dy=0),\n",
       "  dim = Register(dim=4),\n",
       "  ddrtobram = Register(ddrtobram=1, RESERVED=0)\n",
       "}"
      ]
     },
     "execution_count": 38,
     "metadata": {},
     "output_type": "execute_result"
    }
   ],
   "source": [
    "outputip.register_map"
   ]
  },
  {
   "cell_type": "code",
   "execution_count": null,
   "metadata": {},
   "outputs": [],
   "source": []
  }
 ],
 "metadata": {
  "kernelspec": {
   "display_name": "Python 3",
   "language": "python",
   "name": "python3"
  },
  "language_info": {
   "codemirror_mode": {
    "name": "ipython",
    "version": 3
   },
   "file_extension": ".py",
   "mimetype": "text/x-python",
   "name": "python",
   "nbconvert_exporter": "python",
   "pygments_lexer": "ipython3",
   "version": "3.6.5"
  }
 },
 "nbformat": 4,
 "nbformat_minor": 2
}
