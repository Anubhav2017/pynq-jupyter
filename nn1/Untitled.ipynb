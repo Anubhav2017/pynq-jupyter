{
 "cells": [
  {
   "cell_type": "code",
   "execution_count": 1,
   "metadata": {},
   "outputs": [
    {
     "data": {
      "application/javascript": [
       "\n",
       "try {\n",
       "require(['notebook/js/codecell'], function(codecell) {\n",
       "  codecell.CodeCell.options_default.highlight_modes[\n",
       "      'magic_text/x-csrc'] = {'reg':[/^%%microblaze/]};\n",
       "  Jupyter.notebook.events.one('kernel_ready.Kernel', function(){\n",
       "      Jupyter.notebook.get_cells().map(function(cell){\n",
       "          if (cell.cell_type == 'code'){ cell.auto_highlight(); } }) ;\n",
       "  });\n",
       "});\n",
       "} catch (e) {};\n"
      ]
     },
     "metadata": {},
     "output_type": "display_data"
    },
    {
     "data": {
      "application/javascript": [
       "\n",
       "try {\n",
       "require(['notebook/js/codecell'], function(codecell) {\n",
       "  codecell.CodeCell.options_default.highlight_modes[\n",
       "      'magic_text/x-csrc'] = {'reg':[/^%%pybind11/]};\n",
       "  Jupyter.notebook.events.one('kernel_ready.Kernel', function(){\n",
       "      Jupyter.notebook.get_cells().map(function(cell){\n",
       "          if (cell.cell_type == 'code'){ cell.auto_highlight(); } }) ;\n",
       "  });\n",
       "});\n",
       "} catch (e) {};\n"
      ]
     },
     "metadata": {},
     "output_type": "display_data"
    }
   ],
   "source": [
    "from pynq import Overlay, GPIO, Register, allocate, MMIO\n",
    "import os\n",
    "from convert import *\n",
    "import numpy as np\n",
    "\n",
    "import struct\n"
   ]
  },
  {
   "cell_type": "code",
   "execution_count": 2,
   "metadata": {},
   "outputs": [],
   "source": [
    "converter=Converter()\n"
   ]
  },
  {
   "cell_type": "code",
   "execution_count": 3,
   "metadata": {},
   "outputs": [
    {
     "data": {
      "text/plain": [
       "RegisterMap {\n",
       "  CTRL = Register(AP_START=0, AP_DONE=0, AP_IDLE=1, AP_READY=0, RESERVED_1=0, AUTO_RESTART=0, RESERVED_2=0),\n",
       "  GIER = Register(Enable=0, RESERVED=0),\n",
       "  IP_IER = Register(CHAN0_INT_EN=0, CHAN1_INT_EN=0, RESERVED=0),\n",
       "  IP_ISR = Register(CHAN0_INT_ST=0, CHAN1_INT_ST=0, RESERVED=0),\n",
       "  x = Register(x=0),\n",
       "  w = Register(w=0),\n",
       "  y = Register(y=0),\n",
       "  b = Register(b=0),\n",
       "  xdim = Register(xdim=0),\n",
       "  ydim = Register(ydim=0)\n",
       "}"
      ]
     },
     "execution_count": 3,
     "metadata": {},
     "output_type": "execute_result"
    }
   ],
   "source": [
    "overlay = Overlay(\"fwd_fcc_test.bit\")\n",
    "fwip=overlay.forward_fcc_0\n",
    "fwip.register_map\n",
    "\n"
   ]
  },
  {
   "cell_type": "code",
   "execution_count": 4,
   "metadata": {},
   "outputs": [],
   "source": [
    "\n",
    "dim =3\n",
    "xbuff= allocate(shape=(dim,), dtype='uint16')\n",
    "wbuff= allocate(shape=(dim,), dtype='uint16')\n",
    "ybuff= allocate(shape=(1,), dtype='uint16')\n",
    "bbuff= allocate(shape=(1,), dtype='uint16')\n",
    "\n",
    "\n",
    "\n",
    "\n"
   ]
  },
  {
   "cell_type": "code",
   "execution_count": 5,
   "metadata": {},
   "outputs": [],
   "source": [
    "dim=3\n",
    "\n",
    "BASE_ADDR=0x0\n",
    "BASE_ADDRESS_X=xbuff.device_address\n",
    "BASE_ADDRESS_W=wbuff.device_address\n",
    "BASE_ADDRESS_B=bbuff.device_address\n",
    "BASE_ADDRESS_Y=ybuff.device_address\n",
    "\n",
    "\n",
    "mmio_x=MMIO(BASE_ADDRESS_X,dim*4)\n",
    "mmio_w=MMIO(BASE_ADDRESS_W,dim*4)\n",
    "mmio_b=MMIO(BASE_ADDRESS_B,4)\n",
    "mmio_y=MMIO(BASE_ADDRESS_Y,4)\n",
    "\n",
    "\n",
    "\n",
    "# mmio_x.write(0,int(converter.encode(0.1)))\n",
    "# mmio_x.write(4,int(converter.encode(0.1)))\n",
    "# mmio_x.write(8,int(converter.encode(0.1)))\n",
    "\n",
    "# mmio_w.write(0,int(converter.encode(2.0)))\n",
    "# mmio_w.write(4,int(converter.encode(3.0)))\n",
    "# mmio_w.write(8,int(converter.encode(4.0)))\n",
    "\n",
    "# mmio_b.write(0,int(converter.encode(0.0)))\n",
    "\n",
    "# mmio_y.write(0,int(converter.encode(0)))\n",
    "x=[0.1,0.1,0.1]\n",
    "xbuff[:]= [converter.encode(x[i]) for i in range(dim)]\n",
    "\n",
    "w=[2,3,4]\n",
    "wbuff[:]= [converter.encode(w[i]) for i in range(dim)]\n",
    "\n",
    "bbuff[:]=[converter.encode(1.0)]\n",
    "\n",
    "ybuff[:]=[converter.encode(0)]\n",
    "\n",
    "xbuff.flush()\n",
    "wbuff.flush()\n",
    "bbuff.flush()\n",
    "ybuff.flush()"
   ]
  },
  {
   "cell_type": "code",
   "execution_count": 6,
   "metadata": {},
   "outputs": [],
   "source": [
    "fwip.register_map.x=BASE_ADDRESS_X\n",
    "fwip.register_map.w=BASE_ADDRESS_W\n",
    "fwip.register_map.y=BASE_ADDRESS_Y\n",
    "fwip.register_map.b=BASE_ADDRESS_B\n",
    "fwip.register_map.xdim=dim\n",
    "fwip.register_map.ydim=1"
   ]
  },
  {
   "cell_type": "code",
   "execution_count": 7,
   "metadata": {},
   "outputs": [],
   "source": [
    "fwip.write(0x00, 1)\n",
    "fpga_state = fwip.read(0x00)\n",
    "\n",
    "max_try = 1000000\n",
    "while fpga_state != 6 and fpga_state != 4:\n",
    "    fpga_state = fwip.read(0x00)\n",
    "    max_try = max_try -1\n",
    "    if max_try == 0:\n",
    "        print(\"ERROR: Can't go ahead\")\n",
    "        fwip.write(0x00, 4)\n",
    "        break\n",
    "fwip.write(0x00, 4)"
   ]
  },
  {
   "cell_type": "code",
   "execution_count": 8,
   "metadata": {},
   "outputs": [
    {
     "name": "stdout",
     "output_type": "stream",
     "text": [
      "[12 12 12]\n",
      "[256 384 512]\n",
      "[128]\n",
      "[236]\n"
     ]
    }
   ],
   "source": [
    "# val=converter.decode(ybuff[0])\n",
    "# print(val)\n",
    "\n",
    "ybuff.invalidate()\n",
    "\n",
    "# print(converter.decode(ybuff[:]))\n",
    "print(xbuff)\n",
    "print(wbuff)\n",
    "print(bbuff)\n",
    "print(ybuff)"
   ]
  },
  {
   "cell_type": "code",
   "execution_count": 12,
   "metadata": {},
   "outputs": [
    {
     "data": {
      "text/plain": [
       "RegisterMap {\n",
       "  CTRL = Register(AP_START=0, AP_DONE=0, AP_IDLE=1, AP_READY=0, RESERVED_1=0, AUTO_RESTART=0, RESERVED_2=0),\n",
       "  GIER = Register(Enable=0, RESERVED=0),\n",
       "  IP_IER = Register(CHAN0_INT_EN=0, CHAN1_INT_EN=0, RESERVED=0),\n",
       "  IP_ISR = Register(CHAN0_INT_ST=0, CHAN1_INT_ST=0, RESERVED=0),\n",
       "  x = Register(x=0),\n",
       "  w = Register(w=16),\n",
       "  y = Register(y=32),\n",
       "  b = Register(b=24),\n",
       "  xdim = Register(xdim=3),\n",
       "  ydim = Register(ydim=1)\n",
       "}"
      ]
     },
     "execution_count": 12,
     "metadata": {},
     "output_type": "execute_result"
    }
   ],
   "source": [
    "fwip.register_map\n"
   ]
  },
  {
   "cell_type": "code",
   "execution_count": null,
   "metadata": {},
   "outputs": [],
   "source": []
  }
 ],
 "metadata": {
  "kernelspec": {
   "display_name": "Python 3",
   "language": "python",
   "name": "python3"
  },
  "language_info": {
   "codemirror_mode": {
    "name": "ipython",
    "version": 3
   },
   "file_extension": ".py",
   "mimetype": "text/x-python",
   "name": "python",
   "nbconvert_exporter": "python",
   "pygments_lexer": "ipython3",
   "version": "3.6.5"
  }
 },
 "nbformat": 4,
 "nbformat_minor": 2
}
