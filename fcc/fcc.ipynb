{
 "cells": [
  {
   "cell_type": "code",
   "execution_count": 1,
   "metadata": {},
   "outputs": [
    {
     "data": {
      "application/javascript": [
       "\n",
       "try {\n",
       "require(['notebook/js/codecell'], function(codecell) {\n",
       "  codecell.CodeCell.options_default.highlight_modes[\n",
       "      'magic_text/x-csrc'] = {'reg':[/^%%microblaze/]};\n",
       "  Jupyter.notebook.events.one('kernel_ready.Kernel', function(){\n",
       "      Jupyter.notebook.get_cells().map(function(cell){\n",
       "          if (cell.cell_type == 'code'){ cell.auto_highlight(); } }) ;\n",
       "  });\n",
       "});\n",
       "} catch (e) {};\n"
      ]
     },
     "metadata": {},
     "output_type": "display_data"
    },
    {
     "data": {
      "application/javascript": [
       "\n",
       "try {\n",
       "require(['notebook/js/codecell'], function(codecell) {\n",
       "  codecell.CodeCell.options_default.highlight_modes[\n",
       "      'magic_text/x-csrc'] = {'reg':[/^%%pybind11/]};\n",
       "  Jupyter.notebook.events.one('kernel_ready.Kernel', function(){\n",
       "      Jupyter.notebook.get_cells().map(function(cell){\n",
       "          if (cell.cell_type == 'code'){ cell.auto_highlight(); } }) ;\n",
       "  });\n",
       "});\n",
       "} catch (e) {};\n"
      ]
     },
     "metadata": {},
     "output_type": "display_data"
    }
   ],
   "source": [
    "from pynq import Overlay, GPIO, Register, allocate, MMIO\n"
   ]
  },
  {
   "cell_type": "code",
   "execution_count": 2,
   "metadata": {},
   "outputs": [
    {
     "name": "stdout",
     "output_type": "stream",
     "text": [
      "/home/xilinx/jupyter_notebooks/fcc\n"
     ]
    }
   ],
   "source": [
    "import os\n",
    "print(os.getcwd())"
   ]
  },
  {
   "cell_type": "code",
   "execution_count": 3,
   "metadata": {
    "scrolled": true
   },
   "outputs": [],
   "source": [
    "overlay = Overlay(\"nn.bit\")\n",
    "overlay?"
   ]
  },
  {
   "cell_type": "code",
   "execution_count": 4,
   "metadata": {},
   "outputs": [],
   "source": [
    "# fcc1_axilite=overlay.forward_fcc_0.s_axi_CTRL\n",
    "fcc1=overlay.forward_fcc_0\n",
    "fcc1?"
   ]
  },
  {
   "cell_type": "code",
   "execution_count": 5,
   "metadata": {},
   "outputs": [
    {
     "data": {
      "text/plain": [
       "RegisterMap {\n",
       "  CTRL = Register(AP_START=0, AP_DONE=0, AP_IDLE=1, AP_READY=0, RESERVED_1=0, AUTO_RESTART=0, RESERVED_2=0),\n",
       "  GIER = Register(Enable=0, RESERVED=0),\n",
       "  IP_IER = Register(CHAN0_INT_EN=0, CHAN1_INT_EN=0, RESERVED=0),\n",
       "  IP_ISR = Register(CHAN0_INT_ST=0, CHAN1_INT_ST=0, RESERVED=0),\n",
       "  x = Register(x=0),\n",
       "  w = Register(w=0),\n",
       "  y = Register(y=0),\n",
       "  b = Register(b=0),\n",
       "  xdimension = Register(xdimension=0),\n",
       "  ydimension = Register(ydimension=0)\n",
       "}"
      ]
     },
     "execution_count": 5,
     "metadata": {},
     "output_type": "execute_result"
    }
   ],
   "source": [
    "fcc1.register_map"
   ]
  },
  {
   "cell_type": "code",
   "execution_count": 6,
   "metadata": {},
   "outputs": [],
   "source": [
    "#define XFORWARD_FCC_CTRL_ADDR_AP_CTRL   0x00\n",
    "#define XFORWARD_FCC_CTRL_ADDR_IER       0x08\n",
    "#define XFORWARD_FCC_CTRL_ADDR_ISR       0x0c\n",
    "#define XFORWARD_FCC_CTRL_ADDR_XDIM_DATA 0x10\n",
    "#define XFORWARD_FCC_CTRL_BITS_XDIM_DATA 32\n",
    "#define XFORWARDARD_FCC_CTRL_ADDR_GIE       0x04\n",
    "#define XFORW_FCC_CTRL_ADDR_YDIM_DATA 0x18\n",
    "#define XFORWARD_FCC_CTRL_BITS_YDIM_DATA 32\n",
    "\n",
    "# class fccOverlay():\n",
    "#     \"\"\"A simple Mem-Mapped Overlay for PYNQ.\n",
    "\n",
    "#     This overlay is implemented with a single Matrix Multiply Core fed\n",
    "#     connected directly to the ARM Core AXI interface.\n",
    "\n",
    "#     \"\"\"\n",
    "#     __RESET_VALUE = 0\n",
    "#     __NRESET_VALUE = 1\n",
    "\n",
    "#     \"\"\" For convenince, we define register offsets that are scraped from\n",
    "#     the HLS implementation header files.\n",
    "\n",
    "#     \"\"\"\n",
    "#     FCC_AP_CTRL_OFF = 0x00\n",
    "#     FCC_AP_CTRL_START_IDX = 0\n",
    "#     FCC_AP_CTRL_DONE_IDX  = 1\n",
    "#     FCC_AP_CTRL_IDLE_IDX  = 2\n",
    "#     FCC_AP_CTRL_READY_IDX = 3\n",
    "\n",
    "#     FCC_GIE_OFF     = 0x04\n",
    "#     FCC_IER_OFF     = 0x08\n",
    "#     FCC_ISR_OFF     = 0x0C\n",
    "\n",
    "\n",
    "#     FCC_ADDR_X_DATA = 0x10\n",
    "#     FCC_ADDR_W_DATA = 0x18   \n",
    "#     FCC_ADDR_Y_DATA = 0x20\n",
    "#     FCC_ADDR_B_DATA = 0x28\n",
    "    \n",
    "#     def __init__(self,fcc):\n",
    "        \n",
    "#         self.fcc=fcc\n",
    "#         self.resetPin = GPIO(GPIO.get_gpio_pin(0), \"out\")\n",
    "#         self.ap_ctrl_reg = fcc.register_map.CTRL\n",
    "\n",
    "        \n",
    "\n",
    "#     def __start(self):\n",
    "#         \"\"\"Raise AP_START and enable the HLS core\n",
    "\n",
    "#         \"\"\"\n",
    "#         self.ap_ctrl_reg[self.FCC_AP_CTRL_START_IDX] = 1\n",
    "#         pass\n",
    "\n",
    "#     def __stop(self):\n",
    "#         \"\"\"Lower AP_START and disable the HLS core\n",
    "\n",
    "#         \"\"\"\n",
    "#         self.ap_ctrl_reg[self.FCC_AP_CTRL_START_IDX] = 0\n",
    "#         pass\n",
    "\n",
    "#     def nreset(self):\n",
    "#         \"\"\"Set the reset pin to self.__NRESET_VALUE to place the core into\n",
    "#         not-reset (usually run)\n",
    "\n",
    "#         \"\"\"\n",
    "#         self.resetPin.write(self.__NRESET_VALUE)\n",
    "\n",
    "#     def reset(self):\n",
    "#         \"\"\"Set the reset pin to self.__RESET_VALUE to place the core into\n",
    "#         reset\n",
    "\n",
    "#         \"\"\"\n",
    "#         self.resetPin.write(self.__RESET_VALUE)\n",
    "#     def run(self,xdim,ydim,x,w,b):\n",
    "#         self.reset()\n",
    "\n",
    "#         xbuffer = allocate(shape=(xdim,), dtype=np.int32,cacheable=True)\n",
    "#         ybuffer = allocate(shape=(ydim,), dtype=np.int32,cacheable=True)\n",
    "#         wbuffer = allocate(shape=(xdim*ydim,), dtype=np.int32,cacheable=True)\n",
    "#         bbuffer = allocate(shape=(ydim,), dtype=np.int32,cacheable=True)\n",
    "        \n",
    "\n",
    "#         y=np.ones((ydim),np.float32)\n",
    "        \n",
    "#         print(y)\n",
    "\n",
    "#         xbuffer[:] = x\n",
    "#         ybuffer[:] = y\n",
    "#         bbuffer[:] = b\n",
    "\n",
    "#         for i in range(ydim):\n",
    "#             for j in range(xdim):\n",
    "#                 wbuffer[i*xdim+j]=w[i*xdim+j]\n",
    "        \n",
    "#         print(self.fcc.read(0x00))\n",
    "#         self.fcc.write(self.FCC_ADDR_X_DATA,xbuffer.physical_address)\n",
    "#         self.fcc.write(self.FCC_ADDR_Y_DATA,ybuffer.physical_address)\n",
    "#         self.fcc.write(self.FCC_ADDR_W_DATA,wbuffer.physical_address)\n",
    "#         self.fcc.write(self.FCC_ADDR_B_DATA,bbuffer.physical_address)\n",
    "        \n",
    "\n",
    "#         self.fcc.write(0x00, 1)\n",
    "#         fpga_state = self.fcc.read(0x00)\n",
    "\n",
    "#         max_try = 1000000\n",
    "#         while fpga_state != 6 and fpga_state != 4:\n",
    "#             fpga_state = self.fcc.read(0x00)\n",
    "#             max_try = max_try -1\n",
    "#             if max_try == 0:\n",
    "#                 print(\"ERROR: Can't go ahead\")\n",
    "#                 self.fcc.write(0x00, 4)\n",
    "#                 break\n",
    "        \n",
    "#         self.fcc.write(0x00, 4)\n",
    "#         print(xbuffer)\n",
    "#         print(wbuffer)\n",
    "#         y[:ydim] = ybuffer[:ydim]\n",
    "        \n",
    "\n",
    "#         return y\n",
    "    "
   ]
  },
  {
   "cell_type": "code",
   "execution_count": 11,
   "metadata": {},
   "outputs": [],
   "source": [
    "BASE_ADDRESS_X=0x4001_0000\n",
    "BASE_ADDRESS_W=0x4001_0100\n",
    "BASE_ADDRESS_Y=0x4001_0200\n",
    "BASE_ADDRESS_B=0x4001_0300\n",
    "\n",
    "ADDRESS_RANGE=0xF0\n",
    "\n",
    "mmio_x= MMIO(BASE_ADDRESS_X,ADDRESS_RANGE)\n",
    "mmio_w= MMIO(BASE_ADDRESS_W,ADDRESS_RANGE)\n",
    "mmio_y= MMIO(BASE_ADDRESS_Y,ADDRESS_RANGE)\n",
    "mmio_b= MMIO(BASE_ADDRESS_B,ADDRESS_RANGE)\n",
    "\n",
    "OFFSET_X=0x0\n",
    "OFFSET_Y=0x0\n",
    "OFFSET_W=0x0\n",
    "OFFSET_B=0x0\n",
    "\n",
    "xdim=3\n",
    "ydim=4"
   ]
  },
  {
   "cell_type": "code",
   "execution_count": 12,
   "metadata": {},
   "outputs": [],
   "source": [
    "for i in range(xdim):\n",
    "    mmio_x.write(OFFSET_X,i+1)    \n",
    "    OFFSET_X=OFFSET_X+4\n",
    "\n",
    "for i in range(ydim):\n",
    "    for j in range(xdim):\n",
    "        mmio_w.write(OFFSET_W,i+1)\n",
    "        OFFSET_W += 4\n",
    "\n",
    "for i in range(ydim):\n",
    "    mmio_y.write(OFFSET_Y,0)\n",
    "    mmio_b.write(OFFSET_B,2)\n",
    "    OFFSET_Y=OFFSET_Y+4\n",
    "    OFFSET_B=OFFSET_B+4"
   ]
  },
  {
   "cell_type": "code",
   "execution_count": 29,
   "metadata": {},
   "outputs": [],
   "source": [
    "# x=np.array([1,1,1])\n",
    "# w=np.array([[1,1,1],[2,2,2],[3,3,3]])\n",
    "# b=np.array([0,0,0])\n",
    "# print(fcc_obj.run(3,3,x,w,b))\n"
   ]
  },
  {
   "cell_type": "code",
   "execution_count": 7,
   "metadata": {},
   "outputs": [],
   "source": [
    "# xbuffer = allocate(shape=(xdim,), dtype=np.int32,cacheable=True)\n",
    "# ybuffer = allocate(shape=(ydim,), dtype=np.int32,cacheable=True)\n",
    "# wbuffer = allocate(shape=(xdim*ydim,), dtype=np.int32,cacheable=True)\n",
    "# bbuffer = allocate(shape=(ydim,), dtype=np.int32,cacheable=True)"
   ]
  },
  {
   "cell_type": "code",
   "execution_count": 8,
   "metadata": {},
   "outputs": [],
   "source": [
    "# y=np.zeros((ydim),np.float32)\n",
    "# x=[1,1,1]\n",
    "# w=[1,1,1,2,2,2,3,2,1]\n",
    "# b=[0,0,0]"
   ]
  },
  {
   "cell_type": "code",
   "execution_count": 9,
   "metadata": {},
   "outputs": [],
   "source": [
    "# xbuffer[:] = x\n",
    "# wbuffer[:] = w\n",
    "# ybuffer[:] = y\n",
    "# bbuffer[:] = b\n",
    "\n",
    "# for i in range(ydim):\n",
    "#     for j in range(xdim):\n",
    "#         wbuffer[i*xdim+j]=w[i*xdim+j]"
   ]
  },
  {
   "cell_type": "code",
   "execution_count": 13,
   "metadata": {},
   "outputs": [],
   "source": [
    "# fcc1.register_map.x=xbuffer.physical_address\n",
    "# fcc1.register_map.y=ybuffer.physical_address\n",
    "# fcc1.register_map.w=wbuffer.physical_address\n",
    "# fcc1.register_map.b=bbuffer.physical_address\n",
    "\n",
    "fcc1.register_map.x=BASE_ADDRESS_X\n",
    "fcc1.register_map.y=BASE_ADDRESS_Y\n",
    "fcc1.register_map.w=BASE_ADDRESS_W\n",
    "fcc1.register_map.b=BASE_ADDRESS_B\n",
    "fcc1.register_map.xdimension=xdim\n",
    "fcc1.register_map.ydimension=ydim"
   ]
  },
  {
   "cell_type": "code",
   "execution_count": 14,
   "metadata": {},
   "outputs": [],
   "source": [
    "fcc1.write(0x00, 1)\n",
    "fpga_state = fcc1.read(0x00)\n",
    "\n",
    "max_try = 1000000\n",
    "while fpga_state != 6 and fpga_state != 4:\n",
    "    fpga_state = fcc1.read(0x00)\n",
    "    max_try = max_try -1\n",
    "    if max_try == 0:\n",
    "        print(\"ERROR: Can't go ahead\")\n",
    "        fcc1.write(0x00, 4)\n",
    "        break\n",
    "\n",
    "fcc1.write(0x00, 4)\n",
    "# print(xbuffer)\n",
    "# print(wbuffer)\n",
    "# print(ybuffer)\n",
    "# y[:ydim] = ybuffer[:ydim]"
   ]
  },
  {
   "cell_type": "code",
   "execution_count": 15,
   "metadata": {},
   "outputs": [
    {
     "name": "stdout",
     "output_type": "stream",
     "text": [
      "[8, 14, 20, 26]\n"
     ]
    }
   ],
   "source": [
    "y=[]\n",
    "OFFSET_X=0x0\n",
    "OFFSET_Y=0x0\n",
    "OFFSET_W=0x0\n",
    "OFFSET_B=0x0\n",
    "for i in range(ydim):\n",
    "    y.append(mmio_y.read(OFFSET_Y))\n",
    "    OFFSET_Y= OFFSET_Y+4\n",
    "\n",
    "    \n",
    "print(y)"
   ]
  },
  {
   "cell_type": "code",
   "execution_count": null,
   "metadata": {},
   "outputs": [],
   "source": []
  }
 ],
 "metadata": {
  "kernelspec": {
   "display_name": "Python 3",
   "language": "python",
   "name": "python3"
  },
  "language_info": {
   "codemirror_mode": {
    "name": "ipython",
    "version": 3
   },
   "file_extension": ".py",
   "mimetype": "text/x-python",
   "name": "python",
   "nbconvert_exporter": "python",
   "pygments_lexer": "ipython3",
   "version": "3.6.5"
  }
 },
 "nbformat": 4,
 "nbformat_minor": 5
}
