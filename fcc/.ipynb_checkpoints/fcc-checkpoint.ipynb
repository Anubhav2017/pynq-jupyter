{
 "cells": [
  {
   "cell_type": "code",
   "execution_count": 52,
   "metadata": {},
   "outputs": [],
   "source": [
    "from pynq import Overlay, GPIO, Register, allocate\n"
   ]
  },
  {
   "cell_type": "code",
   "execution_count": 53,
   "metadata": {},
   "outputs": [
    {
     "name": "stdout",
     "output_type": "stream",
     "text": [
      "/home/xilinx/jupyter_notebooks/fcc\n"
     ]
    }
   ],
   "source": [
    "import os\n",
    "print(os.getcwd())"
   ]
  },
  {
   "cell_type": "code",
   "execution_count": 54,
   "metadata": {
    "scrolled": true
   },
   "outputs": [],
   "source": [
    "overlay = Overlay(\"nn.bit\")\n",
    "overlay?"
   ]
  },
  {
   "cell_type": "code",
   "execution_count": 55,
   "metadata": {},
   "outputs": [],
   "source": [
    "# fcc1_axilite=overlay.forward_fcc_0.s_axi_CTRL\n",
    "fcc1=overlay.forward_fcc_0\n",
    "fcc1?"
   ]
  },
  {
   "cell_type": "code",
   "execution_count": 56,
   "metadata": {},
   "outputs": [
    {
     "data": {
      "text/plain": [
       "RegisterMap {\n",
       "  CTRL = Register(AP_START=0, AP_DONE=0, AP_IDLE=1, AP_READY=0, RESERVED_1=0, AUTO_RESTART=0, RESERVED_2=0),\n",
       "  GIER = Register(Enable=0, RESERVED=0),\n",
       "  IP_IER = Register(CHAN0_INT_EN=0, CHAN1_INT_EN=0, RESERVED=0),\n",
       "  IP_ISR = Register(CHAN0_INT_ST=0, CHAN1_INT_ST=0, RESERVED=0),\n",
       "  x = Register(x=0),\n",
       "  w = Register(w=0),\n",
       "  y = Register(y=0),\n",
       "  b = Register(b=0)\n",
       "}"
      ]
     },
     "execution_count": 56,
     "metadata": {},
     "output_type": "execute_result"
    }
   ],
   "source": [
    "fcc1.register_map"
   ]
  },
  {
   "cell_type": "code",
   "execution_count": 57,
   "metadata": {},
   "outputs": [],
   "source": [
    "#define XFORWARD_FCC_CTRL_ADDR_AP_CTRL   0x00\n",
    "#define XFORWARD_FCC_CTRL_ADDR_IER       0x08\n",
    "#define XFORWARD_FCC_CTRL_ADDR_ISR       0x0c\n",
    "#define XFORWARD_FCC_CTRL_ADDR_XDIM_DATA 0x10\n",
    "#define XFORWARD_FCC_CTRL_BITS_XDIM_DATA 32\n",
    "#define XFORWARDARD_FCC_CTRL_ADDR_GIE       0x04\n",
    "#define XFORW_FCC_CTRL_ADDR_YDIM_DATA 0x18\n",
    "#define XFORWARD_FCC_CTRL_BITS_YDIM_DATA 32\n",
    "\n",
    "class fccOverlay():\n",
    "    \"\"\"A simple Mem-Mapped Overlay for PYNQ.\n",
    "\n",
    "    This overlay is implemented with a single Matrix Multiply Core fed\n",
    "    connected directly to the ARM Core AXI interface.\n",
    "\n",
    "    \"\"\"\n",
    "    __RESET_VALUE = 0\n",
    "    __NRESET_VALUE = 1\n",
    "\n",
    "    \"\"\" For convenince, we define register offsets that are scraped from\n",
    "    the HLS implementation header files.\n",
    "\n",
    "    \"\"\"\n",
    "    FCC_AP_CTRL_OFF = 0x00\n",
    "    FCC_AP_CTRL_START_IDX = 0\n",
    "    FCC_AP_CTRL_DONE_IDX  = 1\n",
    "    FCC_AP_CTRL_IDLE_IDX  = 2\n",
    "    FCC_AP_CTRL_READY_IDX = 3\n",
    "\n",
    "    FCC_GIE_OFF     = 0x04\n",
    "    FCC_IER_OFF     = 0x08\n",
    "    FCC_ISR_OFF     = 0x0C\n",
    "\n",
    "\n",
    "    FCC_ADDR_X_DATA = 0x10\n",
    "    FCC_ADDR_W_DATA = 0x18   \n",
    "    FCC_ADDR_Y_DATA = 0x20\n",
    "    FCC_ADDR_B_DATA = 0x28\n",
    "    \n",
    "    def __init__(self,fcc):\n",
    "        \n",
    "        self.fcc=fcc\n",
    "        self.resetPin = GPIO(GPIO.get_gpio_pin(0), \"out\")\n",
    "        self.ap_ctrl_reg = fcc.register_map.CTRL\n",
    "\n",
    "        \n",
    "\n",
    "    def __start(self):\n",
    "        \"\"\"Raise AP_START and enable the HLS core\n",
    "\n",
    "        \"\"\"\n",
    "        self.ap_ctrl_reg[self.FCC_AP_CTRL_START_IDX] = 1\n",
    "        pass\n",
    "\n",
    "    def __stop(self):\n",
    "        \"\"\"Lower AP_START and disable the HLS core\n",
    "\n",
    "        \"\"\"\n",
    "        self.ap_ctrl_reg[self.FCC_AP_CTRL_START_IDX] = 0\n",
    "        pass\n",
    "\n",
    "    def nreset(self):\n",
    "        \"\"\"Set the reset pin to self.__NRESET_VALUE to place the core into\n",
    "        not-reset (usually run)\n",
    "\n",
    "        \"\"\"\n",
    "        self.resetPin.write(self.__NRESET_VALUE)\n",
    "\n",
    "    def reset(self):\n",
    "        \"\"\"Set the reset pin to self.__RESET_VALUE to place the core into\n",
    "        reset\n",
    "\n",
    "        \"\"\"\n",
    "        self.resetPin.write(self.__RESET_VALUE)\n",
    "    def run(self,xdim,ydim,x,w,b):\n",
    "        self.reset()\n",
    "\n",
    "        xbuffer = allocate(shape=(xdim,), dtype=np.int32,cacheable=True)\n",
    "        ybuffer = allocate(shape=(ydim,), dtype=np.int32,cacheable=True)\n",
    "        wbuffer = allocate(shape=(xdim*ydim,), dtype=np.int32,cacheable=True)\n",
    "        bbuffer = allocate(shape=(ydim,), dtype=np.int32,cacheable=True)\n",
    "        \n",
    "\n",
    "        y=np.ones((ydim),np.float32)\n",
    "\n",
    "        xbuffer[:] = x\n",
    "        ybuffer[:] = y\n",
    "        bbuffer[:] = b\n",
    "\n",
    "        for i in range(ydim):\n",
    "            wbuffer[i*xdim:(i+1)*xdim]=w[i][:]\n",
    "        \n",
    "        print(self.fcc.read(0x00))\n",
    "        self.fcc.write(self.FCC_ADDR_X_DATA,xbuffer.physical_address)\n",
    "        self.fcc.write(self.FCC_ADDR_Y_DATA,ybuffer.physical_address)\n",
    "        self.fcc.write(self.FCC_ADDR_W_DATA,wbuffer.physical_address)\n",
    "        self.fcc.write(self.FCC_ADDR_B_DATA,bbuffer.physical_address)\n",
    "        \n",
    "\n",
    "        self.fcc.write(0x00, 1)\n",
    "        fpga_state = self.fcc.read(0x00)\n",
    "\n",
    "        max_try = 1000000\n",
    "        while fpga_state != 6 and fpga_state != 4:\n",
    "            fpga_state = self.fcc.read(0x00)\n",
    "            max_try = max_try -1\n",
    "            if max_try == 0:\n",
    "                print(\"ERROR: Can't go ahead\")\n",
    "                self.fcc.write(0x00, 4)\n",
    "                break\n",
    "        \n",
    "        self.fcc.write(0x00, 4)\n",
    "        print(xbuffer)\n",
    "        print(wbuffer)\n",
    "        y[:ydim] = ybuffer[:ydim]\n",
    "\n",
    "        return y\n",
    "    "
   ]
  },
  {
   "cell_type": "code",
   "execution_count": 58,
   "metadata": {},
   "outputs": [
    {
     "name": "stdout",
     "output_type": "stream",
     "text": [
      "4\n"
     ]
    }
   ],
   "source": [
    "fcc_obj=fccOverlay(fcc1)\n",
    "print(fcc1.read(0x00))"
   ]
  },
  {
   "cell_type": "code",
   "execution_count": 70,
   "metadata": {},
   "outputs": [
    {
     "name": "stdout",
     "output_type": "stream",
     "text": [
      "4\n",
      "[2 2 2]\n",
      "[1 1 1 2 2 2 3 3 3]\n",
      "[6. 1. 7.]\n"
     ]
    }
   ],
   "source": [
    "import numpy as np\n",
    "xdim=3\n",
    "x=np.array([0,0,0])\n",
    "w=np.array([[1,1,1],[2,2,2],[3,3,3]])\n",
    "b=np.array([6,0,7])\n",
    "print(fcc_obj.run(3,3,x,w,b))"
   ]
  },
  {
   "cell_type": "code",
   "execution_count": 22,
   "metadata": {},
   "outputs": [
    {
     "name": "stdout",
     "output_type": "stream",
     "text": [
      "1\n"
     ]
    }
   ],
   "source": [
    "print(fcc1.read(0x38))"
   ]
  },
  {
   "cell_type": "code",
   "execution_count": 9,
   "metadata": {},
   "outputs": [
    {
     "data": {
      "text/plain": [
       "2"
      ]
     },
     "execution_count": 9,
     "metadata": {},
     "output_type": "execute_result"
    }
   ],
   "source": []
  },
  {
   "cell_type": "code",
   "execution_count": null,
   "metadata": {},
   "outputs": [],
   "source": []
  }
 ],
 "metadata": {
  "kernelspec": {
   "display_name": "Python 3",
   "language": "python",
   "name": "python3"
  },
  "language_info": {
   "codemirror_mode": {
    "name": "ipython",
    "version": 3
   },
   "file_extension": ".py",
   "mimetype": "text/x-python",
   "name": "python",
   "nbconvert_exporter": "python",
   "pygments_lexer": "ipython3",
   "version": "3.6.5"
  }
 },
 "nbformat": 4,
 "nbformat_minor": 5
}
