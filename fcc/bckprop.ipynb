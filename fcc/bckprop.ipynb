{
 "cells": [
  {
   "cell_type": "code",
   "execution_count": 15,
   "metadata": {},
   "outputs": [],
   "source": [
    "from pynq import Overlay, GPIO, Register, allocate, MMIO\n",
    "import os\n",
    "import struct\n",
    "import numpy as np\n",
    "\n",
    "def float_to_int(f):\n",
    "    return (struct.unpack('<I', struct.pack('<f', f))[0])\n",
    "\n",
    "def int_to_float(i):\n",
    "    return (struct.unpack('<f', struct.pack('<I', i))[0])\n",
    "    \n"
   ]
  },
  {
   "cell_type": "code",
   "execution_count": 16,
   "metadata": {
    "scrolled": true
   },
   "outputs": [
    {
     "data": {
      "text/plain": [
       "RegisterMap {\n",
       "  CTRL = Register(AP_START=0, AP_DONE=0, AP_IDLE=1, AP_READY=0, RESERVED_1=0, AUTO_RESTART=0, RESERVED_2=0),\n",
       "  GIER = Register(Enable=0, RESERVED=0),\n",
       "  IP_IER = Register(CHAN0_INT_EN=0, CHAN1_INT_EN=0, RESERVED=0),\n",
       "  IP_ISR = Register(CHAN0_INT_ST=0, CHAN1_INT_ST=0, RESERVED=0),\n",
       "  x = Register(x=0),\n",
       "  w = Register(w=0),\n",
       "  b = Register(b=0),\n",
       "  dx = Register(dx=0),\n",
       "  dy = Register(dy=0),\n",
       "  xdimension = Register(xdimension=0),\n",
       "  ydimension = Register(ydimension=0),\n",
       "  lr = Register(lr=0)\n",
       "}"
      ]
     },
     "execution_count": 16,
     "metadata": {},
     "output_type": "execute_result"
    }
   ],
   "source": [
    "overlay = Overlay(\"nn.bit\")\n",
    "fcc1=overlay.backward_fcc_0\n",
    "fcc1.register_map"
   ]
  },
  {
   "cell_type": "code",
   "execution_count": 17,
   "metadata": {},
   "outputs": [],
   "source": [
    "BASE_ADDRESS_X=0x4001_0000\n",
    "BASE_ADDRESS_W=0x4001_0100\n",
    "BASE_ADDRESS_Y=0x4001_0200\n",
    "BASE_ADDRESS_B=0x4001_0300\n",
    "BASE_ADDRESS_DX=0x4001_0400\n",
    "BASE_ADDRESS_DY=0x4001_0500\n",
    "\n",
    "\n",
    "\n",
    "ADDRESS_RANGE=0xF0\n",
    "\n",
    "mmio_x= MMIO(BASE_ADDRESS_X,ADDRESS_RANGE)\n",
    "mmio_w= MMIO(BASE_ADDRESS_W,ADDRESS_RANGE)\n",
    "mmio_y= MMIO(BASE_ADDRESS_Y,ADDRESS_RANGE)\n",
    "mmio_b= MMIO(BASE_ADDRESS_B,ADDRESS_RANGE)\n",
    "mmio_dx= MMIO(BASE_ADDRESS_DX,ADDRESS_RANGE)\n",
    "mmio_dy= MMIO(BASE_ADDRESS_DY,ADDRESS_RANGE)\n",
    "\n",
    "OFFSET_X=0x0\n",
    "OFFSET_Y=0x0\n",
    "OFFSET_W=0x0\n",
    "OFFSET_B=0x0\n",
    "\n",
    "\n",
    "xdim=3\n",
    "ydim=1"
   ]
  },
  {
   "cell_type": "code",
   "execution_count": 18,
   "metadata": {},
   "outputs": [],
   "source": [
    "for i in range(xdim):\n",
    "    mmio_x.write(i*4,float_to_int(i*0.5))\n",
    "    mmio_dx.write(i*4,float_to_int(0))\n",
    "\n",
    "OFFSET_W=0x0\n",
    "for i in range(ydim):\n",
    "    for j in range(xdim):\n",
    "        mmio_w.write(OFFSET_W,float_to_int((j)))\n",
    "        OFFSET_W += 4\n",
    "\n",
    "for i in range(ydim):\n",
    "    mmio_y.write(i*4,float_to_int(0))\n",
    "    mmio_b.write(i*4,float_to_int(2.5))\n",
    "\n",
    "    \n",
    "mmio_dy.write(0,float_to_int(1.5))"
   ]
  },
  {
   "cell_type": "code",
   "execution_count": 19,
   "metadata": {},
   "outputs": [
    {
     "data": {
      "text/plain": [
       "RegisterMap {\n",
       "  CTRL = Register(AP_START=0, AP_DONE=0, AP_IDLE=1, AP_READY=0, RESERVED_1=0, AUTO_RESTART=0, RESERVED_2=0),\n",
       "  GIER = Register(Enable=0, RESERVED=0),\n",
       "  IP_IER = Register(CHAN0_INT_EN=0, CHAN1_INT_EN=0, RESERVED=0),\n",
       "  IP_ISR = Register(CHAN0_INT_ST=0, CHAN1_INT_ST=0, RESERVED=0),\n",
       "  x = Register(x=1073807360),\n",
       "  w = Register(w=1073807616),\n",
       "  b = Register(b=1073808128),\n",
       "  dx = Register(dx=1073808384),\n",
       "  dy = Register(dy=1073808640),\n",
       "  xdimension = Register(xdimension=3),\n",
       "  ydimension = Register(ydimension=1),\n",
       "  lr = Register(lr=1036831949)\n",
       "}"
      ]
     },
     "execution_count": 19,
     "metadata": {},
     "output_type": "execute_result"
    }
   ],
   "source": [
    "\n",
    "\n",
    "fcc1.register_map.x=BASE_ADDRESS_X\n",
    "fcc1.register_map.w=BASE_ADDRESS_W\n",
    "fcc1.register_map.b=BASE_ADDRESS_B\n",
    "fcc1.register_map.xdimension=xdim\n",
    "fcc1.register_map.ydimension=ydim\n",
    "fcc1.register_map.dx=BASE_ADDRESS_DX\n",
    "fcc1.register_map.dy=BASE_ADDRESS_DY\n",
    "fcc1.register_map.lr=float_to_int(0.1)\n",
    "\n",
    "fcc1.register_map"
   ]
  },
  {
   "cell_type": "code",
   "execution_count": 20,
   "metadata": {},
   "outputs": [
    {
     "name": "stdout",
     "output_type": "stream",
     "text": [
      "x=  [0.0, 0.5, 1.0]\n",
      "w=  [0.0, 1.0, 2.0]\n",
      "b=  [2.5]\n",
      "dx=  [0.0, 0.0, 0.0]\n",
      "dy=  [1.5]\n"
     ]
    }
   ],
   "source": [
    "OFFSET_X=0x0\n",
    "OFFSET_W=0x0\n",
    "OFFSET_B=0x0\n",
    "\n",
    "x=[]\n",
    "for i in range(xdim):\n",
    "    x.append(int_to_float(mmio_x.read(OFFSET_X)))\n",
    "    OFFSET_X= OFFSET_X+4\n",
    "\n",
    "\n",
    "w=[]\n",
    "for i in range(xdim*ydim):\n",
    "    w.append(int_to_float(mmio_w.read(OFFSET_W)))\n",
    "    OFFSET_W= OFFSET_W+4\n",
    "    \n",
    "\n",
    "OFFSET_DX=0x0\n",
    "dx=[]\n",
    "for i in range(xdim):\n",
    "    dx.append(int_to_float(mmio_dx.read(OFFSET_DX)))\n",
    "    OFFSET_DX+=4\n",
    "    \n",
    "OFFSET_DY=0x0\n",
    "dy=[]\n",
    "for i in range(ydim):\n",
    "    dy.append(int_to_float(mmio_dy.read(OFFSET_DY)))\n",
    "    OFFSET_DY+=4\n",
    "    \n",
    "OFFSET_B=0x0\n",
    "b=[]\n",
    "for i in range(ydim):\n",
    "    b.append(int_to_float(mmio_b.read(OFFSET_B)))\n",
    "    OFFSET_B+=4\n",
    "    \n",
    "print(\"x= \",x)\n",
    "print(\"w= \",w)\n",
    "print(\"b= \",b)\n",
    "print(\"dx= \",dx)\n",
    "print(\"dy= \",dy)"
   ]
  },
  {
   "cell_type": "code",
   "execution_count": 21,
   "metadata": {},
   "outputs": [],
   "source": [
    "fcc1.write(0x00, 1)\n",
    "fpga_state = fcc1.read(0x00)\n",
    "\n",
    "max_try = 1000000\n",
    "while fpga_state != 6 and fpga_state != 4:\n",
    "    fpga_state = fcc1.read(0x00)\n",
    "    max_try = max_try -1\n",
    "    if max_try == 0:\n",
    "        print(\"ERROR: Can't go ahead\")\n",
    "        fcc1.write(0x00, 4)\n",
    "        break\n",
    "\n",
    "fcc1.write(0x00, 4)\n",
    "# print(xbuffer)\n",
    "# print(wbuffer)\n",
    "# print(ybuffer)\n",
    "# y[:ydim] = ybuffer[:ydim]"
   ]
  },
  {
   "cell_type": "code",
   "execution_count": 22,
   "metadata": {},
   "outputs": [
    {
     "name": "stdout",
     "output_type": "stream",
     "text": [
      "x=  [0.0, 0.5, 1.0]\n",
      "w=  [0.0, 0.925000011920929, 1.850000023841858]\n",
      "b=  [2.3499999046325684]\n",
      "dx=  [0.0, 1.5, 3.0]\n",
      "dy=  [1.5]\n"
     ]
    }
   ],
   "source": [
    "\n",
    "OFFSET_X=0x0\n",
    "OFFSET_W=0x0\n",
    "OFFSET_B=0x0\n",
    "\n",
    "x=[]\n",
    "for i in range(xdim):\n",
    "    x.append(int_to_float(mmio_x.read(OFFSET_X)))\n",
    "    OFFSET_X= OFFSET_X+4\n",
    "\n",
    "\n",
    "w=[]\n",
    "for i in range(xdim*ydim):\n",
    "    w.append(int_to_float(mmio_w.read(OFFSET_W)))\n",
    "    OFFSET_W= OFFSET_W+4\n",
    "    \n",
    "\n",
    "OFFSET_DX=0x0\n",
    "dx=[]\n",
    "for i in range(xdim):\n",
    "    dx.append(int_to_float(mmio_dx.read(OFFSET_DX)))\n",
    "    OFFSET_DX+=4\n",
    "    \n",
    "OFFSET_DY=0x0\n",
    "dy=[]\n",
    "for i in range(ydim):\n",
    "    dy.append(int_to_float(mmio_dy.read(OFFSET_DY)))\n",
    "    OFFSET_DY+=4\n",
    "    \n",
    "OFFSET_B=0x0\n",
    "b=[]\n",
    "for i in range(ydim):\n",
    "    b.append(int_to_float(mmio_b.read(OFFSET_B)))\n",
    "    OFFSET_B+=4\n",
    "    \n",
    "print(\"x= \",x)\n",
    "print(\"w= \",w)\n",
    "print(\"b= \",b)\n",
    "print(\"dx= \",dx)\n",
    "print(\"dy= \",dy)"
   ]
  },
  {
   "cell_type": "code",
   "execution_count": null,
   "metadata": {},
   "outputs": [],
   "source": []
  }
 ],
 "metadata": {
  "kernelspec": {
   "display_name": "Python 3",
   "language": "python",
   "name": "python3"
  },
  "language_info": {
   "codemirror_mode": {
    "name": "ipython",
    "version": 3
   },
   "file_extension": ".py",
   "mimetype": "text/x-python",
   "name": "python",
   "nbconvert_exporter": "python",
   "pygments_lexer": "ipython3",
   "version": "3.6.5"
  }
 },
 "nbformat": 4,
 "nbformat_minor": 5
}
