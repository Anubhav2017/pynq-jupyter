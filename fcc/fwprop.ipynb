{
 "cells": [
  {
   "cell_type": "code",
   "execution_count": 1,
   "metadata": {},
   "outputs": [
    {
     "data": {
      "application/javascript": [
       "\n",
       "try {\n",
       "require(['notebook/js/codecell'], function(codecell) {\n",
       "  codecell.CodeCell.options_default.highlight_modes[\n",
       "      'magic_text/x-csrc'] = {'reg':[/^%%microblaze/]};\n",
       "  Jupyter.notebook.events.one('kernel_ready.Kernel', function(){\n",
       "      Jupyter.notebook.get_cells().map(function(cell){\n",
       "          if (cell.cell_type == 'code'){ cell.auto_highlight(); } }) ;\n",
       "  });\n",
       "});\n",
       "} catch (e) {};\n"
      ]
     },
     "metadata": {},
     "output_type": "display_data"
    },
    {
     "data": {
      "application/javascript": [
       "\n",
       "try {\n",
       "require(['notebook/js/codecell'], function(codecell) {\n",
       "  codecell.CodeCell.options_default.highlight_modes[\n",
       "      'magic_text/x-csrc'] = {'reg':[/^%%pybind11/]};\n",
       "  Jupyter.notebook.events.one('kernel_ready.Kernel', function(){\n",
       "      Jupyter.notebook.get_cells().map(function(cell){\n",
       "          if (cell.cell_type == 'code'){ cell.auto_highlight(); } }) ;\n",
       "  });\n",
       "});\n",
       "} catch (e) {};\n"
      ]
     },
     "metadata": {},
     "output_type": "display_data"
    }
   ],
   "source": [
    "from pynq import Overlay, GPIO, Register, allocate, MMIO\n",
    "import os\n",
    "import struct\n",
    "import numpy as np\n",
    "\n",
    "def float_to_int(f):\n",
    "    return (struct.unpack('<I', struct.pack('<f', f))[0])\n",
    "\n",
    "def int_to_float(i):\n",
    "    return (struct.unpack('<f', struct.pack('<I', i))[0])\n",
    "    \n"
   ]
  },
  {
   "cell_type": "code",
   "execution_count": 2,
   "metadata": {
    "scrolled": true
   },
   "outputs": [
    {
     "data": {
      "text/plain": [
       "RegisterMap {\n",
       "  CTRL = Register(AP_START=0, AP_DONE=0, AP_IDLE=1, AP_READY=0, RESERVED_1=0, AUTO_RESTART=0, RESERVED_2=0),\n",
       "  GIER = Register(Enable=0, RESERVED=0),\n",
       "  IP_IER = Register(CHAN0_INT_EN=0, CHAN1_INT_EN=0, RESERVED=0),\n",
       "  IP_ISR = Register(CHAN0_INT_ST=0, CHAN1_INT_ST=0, RESERVED=0),\n",
       "  x = Register(x=0),\n",
       "  w = Register(w=0),\n",
       "  y = Register(y=0),\n",
       "  b = Register(b=0),\n",
       "  xdimension = Register(xdimension=0),\n",
       "  ydimension = Register(ydimension=0)\n",
       "}"
      ]
     },
     "execution_count": 2,
     "metadata": {},
     "output_type": "execute_result"
    }
   ],
   "source": [
    "overlay = Overlay(\"nn.bit\")\n",
    "fcc1=overlay.forward_fcc_0\n",
    "fcc1.register_map"
   ]
  },
  {
   "cell_type": "code",
   "execution_count": 3,
   "metadata": {},
   "outputs": [],
   "source": [
    "BASE_ADDRESS_X=0x4001_0000\n",
    "BASE_ADDRESS_W=0x4001_0100\n",
    "BASE_ADDRESS_Y=0x4001_0200\n",
    "BASE_ADDRESS_B=0x4001_0300\n",
    "\n",
    "ADDRESS_RANGE=0xF0\n",
    "\n",
    "mmio_x= MMIO(BASE_ADDRESS_X,ADDRESS_RANGE)\n",
    "mmio_w= MMIO(BASE_ADDRESS_W,ADDRESS_RANGE)\n",
    "mmio_y= MMIO(BASE_ADDRESS_Y,ADDRESS_RANGE)\n",
    "mmio_b= MMIO(BASE_ADDRESS_B,ADDRESS_RANGE)\n",
    "\n",
    "OFFSET_X=0x0\n",
    "OFFSET_Y=0x0\n",
    "OFFSET_W=0x0\n",
    "OFFSET_B=0x0\n",
    "\n",
    "xdim=3\n",
    "ydim=4"
   ]
  },
  {
   "cell_type": "code",
   "execution_count": 4,
   "metadata": {},
   "outputs": [],
   "source": [
    "for i in range(xdim):\n",
    "    mmio_x.write(OFFSET_X,float_to_int(i*0.5))    \n",
    "    OFFSET_X=OFFSET_X+4\n",
    "\n",
    "for i in range(ydim):\n",
    "    for j in range(xdim):\n",
    "        mmio_w.write(OFFSET_W,float_to_int((i+1)*0.3))\n",
    "        OFFSET_W += 4\n",
    "\n",
    "for i in range(ydim):\n",
    "    mmio_y.write(OFFSET_Y,float_to_int(0))\n",
    "    mmio_b.write(OFFSET_B,float_to_int(2.5))\n",
    "    OFFSET_Y=OFFSET_Y+4\n",
    "    OFFSET_B=OFFSET_B+4"
   ]
  },
  {
   "cell_type": "code",
   "execution_count": 5,
   "metadata": {},
   "outputs": [],
   "source": [
    "\n",
    "\n",
    "fcc1.register_map.x=BASE_ADDRESS_X\n",
    "fcc1.register_map.y=BASE_ADDRESS_Y\n",
    "fcc1.register_map.w=BASE_ADDRESS_W\n",
    "fcc1.register_map.b=BASE_ADDRESS_B\n",
    "fcc1.register_map.xdimension=xdim\n",
    "fcc1.register_map.ydimension=ydim"
   ]
  },
  {
   "cell_type": "code",
   "execution_count": 6,
   "metadata": {},
   "outputs": [],
   "source": [
    "fcc1.write(0x00, 1)\n",
    "fpga_state = fcc1.read(0x00)\n",
    "\n",
    "max_try = 1000000\n",
    "while fpga_state != 6 and fpga_state != 4:\n",
    "    fpga_state = fcc1.read(0x00)\n",
    "    max_try = max_try -1\n",
    "    if max_try == 0:\n",
    "        print(\"ERROR: Can't go ahead\")\n",
    "        fcc1.write(0x00, 4)\n",
    "        break\n",
    "\n",
    "fcc1.write(0x00, 4)\n",
    "# print(xbuffer)\n",
    "# print(wbuffer)\n",
    "# print(ybuffer)\n",
    "# y[:ydim] = ybuffer[:ydim]"
   ]
  },
  {
   "cell_type": "code",
   "execution_count": 7,
   "metadata": {},
   "outputs": [
    {
     "name": "stdout",
     "output_type": "stream",
     "text": [
      "[2.950000047683716, 3.4000000953674316, 3.8499999046325684, 4.300000190734863]\n"
     ]
    }
   ],
   "source": [
    "y=[]\n",
    "OFFSET_X=0x0\n",
    "OFFSET_Y=0x0\n",
    "OFFSET_W=0x0\n",
    "OFFSET_B=0x0\n",
    "for i in range(ydim):\n",
    "    y.append(int_to_float(mmio_y.read(OFFSET_Y)))\n",
    "    OFFSET_Y= OFFSET_Y+4\n",
    "\n",
    "    \n",
    "print(y)"
   ]
  },
  {
   "cell_type": "code",
   "execution_count": 5,
   "metadata": {},
   "outputs": [
    {
     "name": "stdout",
     "output_type": "stream",
     "text": [
      "0\n"
     ]
    }
   ],
   "source": []
  },
  {
   "cell_type": "code",
   "execution_count": null,
   "metadata": {},
   "outputs": [],
   "source": []
  }
 ],
 "metadata": {
  "kernelspec": {
   "display_name": "Python 3",
   "language": "python",
   "name": "python3"
  },
  "language_info": {
   "codemirror_mode": {
    "name": "ipython",
    "version": 3
   },
   "file_extension": ".py",
   "mimetype": "text/x-python",
   "name": "python",
   "nbconvert_exporter": "python",
   "pygments_lexer": "ipython3",
   "version": "3.6.5"
  }
 },
 "nbformat": 4,
 "nbformat_minor": 5
}
